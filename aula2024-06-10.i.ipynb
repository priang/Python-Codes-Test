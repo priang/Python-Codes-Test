{
 "cells": [
  {
   "cell_type": "markdown",
   "metadata": {},
   "source": [
    "\n",
    "2. Remova todos os números pares do set criado no item anterior e crie um novo set com esses números removidos.\n",
    "3. Remova o maior número do set criado no item 2.\n",
    "4. Adicione o dobro do maior número do set do item 1 no set do item 2.\n",
    "5. Dados os sets: S1 = set(range(5)) e S2 = set(range(3:9)), escreva um programa que mostre:\n",
    "A união de S1 e S2\n",
    "A intersecção de S1 e S2\n",
    "A diferença entre S1 e S2\n",
    "A diferença entre S2 e S1\n",
    "A diferença simétrica entre S1 e S2\n",
    "Um subset do item a"
   ]
  },
  {
   "cell_type": "code",
   "execution_count": 19,
   "metadata": {},
   "outputs": [
    {
     "ename": "TypeError",
     "evalue": "'dict' object is not callable",
     "output_type": "error",
     "traceback": [
      "\u001b[1;31m---------------------------------------------------------------------------\u001b[0m",
      "\u001b[1;31mTypeError\u001b[0m                                 Traceback (most recent call last)",
      "Cell \u001b[1;32mIn[19], line 4\u001b[0m\n\u001b[0;32m      1\u001b[0m \u001b[38;5;66;03m#1. Crie um set de 10 números inteiros aleatórios usando um loop.\u001b[39;00m\n\u001b[0;32m      2\u001b[0m \u001b[38;5;28;01mimport\u001b[39;00m \u001b[38;5;21;01mrandom\u001b[39;00m \n\u001b[1;32m----> 4\u001b[0m set1 \u001b[38;5;241m=\u001b[39m \u001b[38;5;28;43mset\u001b[39;49m\u001b[43m(\u001b[49m\u001b[43m[\u001b[49m\u001b[43m]\u001b[49m\u001b[43m)\u001b[49m\n\u001b[0;32m      6\u001b[0m \u001b[38;5;66;03m#erro\u001b[39;00m\n\u001b[0;32m      7\u001b[0m \u001b[38;5;66;03m# n = 10\u001b[39;00m\n\u001b[0;32m      8\u001b[0m \u001b[38;5;66;03m#while n < 10: \u001b[39;00m\n\u001b[1;32m   (...)\u001b[0m\n\u001b[0;32m     11\u001b[0m \u001b[38;5;66;03m#\u001b[39;00m\n\u001b[0;32m     12\u001b[0m \u001b[38;5;66;03m#  n  = n + 1\u001b[39;00m\n\u001b[0;32m     14\u001b[0m \u001b[38;5;28;01mfor\u001b[39;00m elem \u001b[38;5;129;01min\u001b[39;00m \u001b[38;5;28mrange\u001b[39m(\u001b[38;5;241m10\u001b[39m):\n",
      "\u001b[1;31mTypeError\u001b[0m: 'dict' object is not callable"
     ]
    }
   ],
   "source": [
    "#1. Crie um set de 10 números inteiros aleatórios usando um loop.\n",
    "import random \n",
    "\n",
    "set1 = set([])\n",
    "\n",
    "#erro\n",
    "# n = 10\n",
    "#while n < 10: \n",
    "#  a = random.randint(1,100)\n",
    "#  set1.add(a)\n",
    "#\n",
    "#  n  +=1\n",
    "\n",
    "for elem in range(10):\n",
    "    a = random.randint(1,100)\n",
    "    set1.add(a)\n",
    "\n",
    "print(set1)"
   ]
  }
 ],
 "metadata": {
  "kernelspec": {
   "display_name": "Python 3",
   "language": "python",
   "name": "python3"
  },
  "language_info": {
   "codemirror_mode": {
    "name": "ipython",
    "version": 3
   },
   "file_extension": ".py",
   "mimetype": "text/x-python",
   "name": "python",
   "nbconvert_exporter": "python",
   "pygments_lexer": "ipython3",
   "version": "3.12.2"
  }
 },
 "nbformat": 4,
 "nbformat_minor": 2
}
