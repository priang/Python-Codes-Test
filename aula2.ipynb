{
 "cells": [
  {
   "cell_type": "code",
   "execution_count": 8,
   "metadata": {},
   "outputs": [
    {
     "name": "stdout",
     "output_type": "stream",
     "text": [
      "2\n",
      "4\n",
      "6\n",
      "8\n",
      "10\n",
      "pp\n",
      "aa\n",
      "ll\n",
      "aa\n",
      "vv\n",
      "rr\n",
      "aa\n"
     ]
    }
   ],
   "source": [
    "def listaDobro(lista):\n",
    "\tfor elemento in lista:\n",
    "\t\tprint(elemento*2)\n",
    "\n",
    "lista1 = [1,2,3,4,5]\n",
    "listaDobro(lista1)\n",
    "\n",
    "lista2 = 'palavra'\n",
    "listaDobro(lista2)"
   ]
  },
  {
   "cell_type": "code",
   "execution_count": 3,
   "metadata": {},
   "outputs": [
    {
     "name": "stdout",
     "output_type": "stream",
     "text": [
      "('c', 'r')\n",
      "c r\n"
     ]
    }
   ],
   "source": [
    "\n",
    "def primeiroUltimo(palavra):\n",
    "\tprimeira = palavra[0]\n",
    "\tultima = palavra[-1]\n",
    "\treturn primeira, ultima\n",
    "\n",
    "#chamada 1 - retorno tupla\n",
    "retorno = primeiroUltimo('computador')\n",
    "print(retorno)\n",
    "\n",
    "\n",
    "\n",
    "#chamada 2 - retorno caracter\n",
    "pri, ult = primeiroUltimo('computador')\n",
    "print(pri, ult)"
   ]
  },
  {
   "cell_type": "code",
   "execution_count": 9,
   "metadata": {},
   "outputs": [
    {
     "name": "stdout",
     "output_type": "stream",
     "text": [
      "(15, 50, 2.0)\n",
      "15 50 2.0\n",
      "15\n",
      "50\n",
      "2.0\n"
     ]
    }
   ],
   "source": [
    "#```python\n",
    "def Operacoes(n1,n2):\n",
    "\tsoma = n1 + n2\n",
    "\tmultiplicacao = n1 * n2\n",
    "\tdivisao = n1 / n2\n",
    "\treturn soma, multiplicacao, divisao\n",
    "\n",
    "#chamada 1 - retorno tupla\n",
    "resultado = Operacoes(10,5)\n",
    "print(resultado)\n",
    "\n",
    "#saída 1\n",
    "#(15, 50, 2.0)\n",
    "\n",
    "#chamada 2 - armazenando em variáveis diferente\n",
    "result_soma, result_mult, result_divi = Operacoes(10,5)\n",
    "print(result_soma, result_mult, result_divi)\n",
    "\n",
    "#saída 2\n",
    "#15 50 2.0\n",
    "#```\n",
    "\n",
    "# chamada 3\n",
    "resultado2 = Operacoes(10,5)\n",
    "print(resultado2[0])\n",
    "print(resultado2[1])\n",
    "print(resultado2[2])\n"
   ]
  },
  {
   "cell_type": "code",
   "execution_count": 8,
   "metadata": {},
   "outputs": [],
   "source": [
    "#Lista de exercícios 1 - 17/04/2024\n",
    "\n",
    "#cabeçalho exercícios\n",
    "def ex(num,title):\n",
    "  l =  'Exercicio ' + str(num) + ' - ' + title\n",
    "  print(f'\\nExercicio {num} - {title}\\n{len(l)*'-'}')"
   ]
  },
  {
   "cell_type": "code",
   "execution_count": 9,
   "metadata": {},
   "outputs": [
    {
     "name": "stdout",
     "output_type": "stream",
     "text": [
      "\n",
      "Exercicio 1 - Mediana\n",
      "---------------------\n",
      "1\n",
      "2\n",
      "200\n"
     ]
    }
   ],
   "source": [
    "# Escreva uma função que calcule a mediana de três números. Teste com 3 conjuntos de números diferentes.\n",
    "ex(1,'Mediana')\n",
    "def mediana(n1,n2,n3):\n",
    "  lista = [n1,n2,n3]\n",
    "  # print('lista',lista)\n",
    "  lista.sort() # ordena a lista\n",
    "  # print('ordenada',lista)\n",
    "  index = int((len(lista))/2) # define quem é a mediana\n",
    "  # print('indice',index)\n",
    "  print(lista[index])\n",
    "    \n",
    "mediana(3,1,1)\n",
    "mediana(2,29,0)\n",
    "mediana(200,401,7)\n"
   ]
  },
  {
   "cell_type": "code",
   "execution_count": 10,
   "metadata": {},
   "outputs": [
    {
     "name": "stdout",
     "output_type": "stream",
     "text": [
      "\n",
      "Exercicio 2 - Mediana Completa\n",
      "------------------------------\n",
      "Lista: [1, 2, 3, 4, 5, 6, 7]\n",
      "Mediana: 4\n",
      "\n",
      "Lista: [1]\n",
      "Número insuficiente de elementos.\n",
      "\n",
      "Lista: [500, 4, 23, 6, 8, 34, 6, 7]\n",
      "Mediana: 4.5\n"
     ]
    }
   ],
   "source": [
    "# Escreva uma função que calcule a mediana de uma lista qualquer, que tenha ao menos dois elementos.\n",
    "ex(2,'Mediana Completa')\n",
    "\n",
    "def medianaCompleta(lista):\n",
    "  if ( len(lista) >= 2 ): # mín 2 elementos -> #calcula\n",
    "    tam = len(lista)\n",
    "    if (len(lista)%2 == 0): # tam lista == par      \n",
    "      elem1 = tam/2\n",
    "      elem2 = tam/2 + 1\n",
    "\n",
    "      print(f'Mediana: {(elem1 + elem2)/2}')     \n",
    "    else:       #tam lista == impar\n",
    "      lista.sort() # ordena a lista\n",
    "      # print('ordenada',lista)\n",
    "      \n",
    "      index = int(tam/2)  # define posicao da mediana\n",
    "      #alternativa com divisao inteira: len(lista//2)\n",
    "      # print('indice',index)\n",
    " \n",
    "      print(f'Mediana: {lista[index]}')    \n",
    "  else: #sai\n",
    "    print('Número insuficiente de elementos.')\n",
    "\n",
    "lista1 = [1,2,3,4,5,6,7]\n",
    "lista2 = [1]\n",
    "lista3 = [500,4,23,6,8,34,6,7]\n",
    "\n",
    "print(f'Lista: {lista1}')\n",
    "medianaCompleta(lista1)\n",
    "print(f'\\nLista: {lista2}')\n",
    "medianaCompleta(lista2)\n",
    "print(f'\\nLista: {lista3}')\n",
    "medianaCompleta(lista3)"
   ]
  },
  {
   "cell_type": "code",
   "execution_count": 11,
   "metadata": {},
   "outputs": [
    {
     "name": "stdout",
     "output_type": "stream",
     "text": [
      "\n",
      "Exercicio 3 - Calculadora\n",
      "-------------------------\n",
      "Soma: 15\n",
      "Mult: 50\n",
      "Dif: 5\n"
     ]
    }
   ],
   "source": [
    "# Escreva uma função que recebe dois números como argumento e calcula a soma, a multiplicação e a diferença entre eles. Fora da função imprima um texto com o resultado de cada operação.\n",
    "ex(3,'Calculadora')\n",
    "\n",
    "def calculadora(n1,n2):\n",
    "  soma = n1+n2\n",
    "  mult = n1*n2\n",
    "  dif = n1-n2 #?\n",
    "\n",
    "  return soma,mult,dif\n",
    "\n",
    "#for elem in calculadora(10,5):\n",
    "#  print(elem)\n",
    "\n",
    "resultado = calculadora(10,5)\n",
    "\n",
    "print(f'Soma: {resultado[0]}')\n",
    "print(f'Mult: {resultado[1]}')\n",
    "print(f'Dif: {resultado[2]}')"
   ]
  },
  {
   "cell_type": "code",
   "execution_count": 12,
   "metadata": {},
   "outputs": [
    {
     "name": "stdout",
     "output_type": "stream",
     "text": [
      "\n",
      "Exercicio 4 - Intervalo\n",
      "-----------------------\n",
      "Dentro do intervalo\n"
     ]
    }
   ],
   "source": [
    "\n",
    "# # Escreva uma função que checa se um número se encontra em um determinado intervalo. A função deve receber o número e o intervalo como argumentos e printar uma mensagem de texto com o resultado.\n",
    "ex(4,'Intervalo')\n",
    "\n",
    "def intervalo(num,inicio,final):  \n",
    "  if ( num >= inicio and num <= final):\n",
    "    print('Dentro do intervalo')\n",
    "  else:\n",
    "    print('Fora!')\n",
    "\n",
    "intervalo(4,3,7)\n"
   ]
  },
  {
   "cell_type": "code",
   "execution_count": 13,
   "metadata": {},
   "outputs": [
    {
     "name": "stdout",
     "output_type": "stream",
     "text": [
      "\n",
      "Exercicio 5 - Lista\n",
      "-------------------\n",
      "[1, 2, 3, 4, 5] \n",
      "Dados da lista\n",
      "Tamanho: 5\n",
      "Maior elemento: 5\n",
      "Menor elemento: 1\n",
      "Soma: 15\n",
      "Média: 3.0\n"
     ]
    }
   ],
   "source": [
    "# Escreva uma função que recebe uma lista de números e imprime várias informações dessa lista, como o tamanho dela, o maior número, o menor número, a soma e a média dos números.\n",
    "ex(5,'Lista')\n",
    "\n",
    "def lista(l):\n",
    "  print(f'Tamanho: {len(l)}')\n",
    "  print(f'Maior elemento: {max(l)}')\n",
    "  print(f'Menor elemento: {min(l)}')\n",
    "  print(f'Soma: {sum(l)}')\n",
    "  print(f'Média: {sum(l)/len(l)}')\n",
    "\n",
    "lista1 = [1,2,3,4,5]\n",
    "\n",
    "print(lista1,'\\nDados da lista')\n",
    "lista(lista1)\n",
    "  "
   ]
  },
  {
   "cell_type": "code",
   "execution_count": 15,
   "metadata": {},
   "outputs": [
    {
     "name": "stdout",
     "output_type": "stream",
     "text": [
      "\n",
      "Exercicio 6 - Nomes e Sobrenomes\n",
      "--------------------------------\n",
      "Lista nomes: ['Harry Potter', 'Hermione Granger', 'Rony Weasly', 'Tatsumaki Kyaku']\n",
      "Lista sobrenomes: ['Potter', 'Granger', 'Weasly', 'Kyaku']\n"
     ]
    }
   ],
   "source": [
    "# Escreva uma função que recebe uma lista na qual cada elemento é composto por um nome e um sobrenome e retorna uma lista só de sobrenomes.\n",
    "ex(6,'Nomes e Sobrenomes')\n",
    "\n",
    "# #recebe uma lista com some e sobrenome\n",
    "# #retorna lista só com sobrenome\n",
    "#ex: recebe: ['priscila silva', 'harry potter'] -> ['silva','potter']\n",
    "def sobrenomes(ls_nome_completo):  \n",
    "  ls_sobrenomes = []\n",
    "\n",
    "  for elem in ls_nome_completo:  #splita\n",
    "    nome = elem.split(' ')\n",
    "   # print(nome)\n",
    "\n",
    "    ls_sobrenomes.append(nome[1])\n",
    "    #print(ls_sobrenomes)\n",
    "\n",
    "    #alternativa\n",
    "    #ls_sobrenomes.append(elem.split(' ')[1])\n",
    "  return ls_sobrenomes\n",
    "\n",
    "ls_nomes = ['Harry Potter', 'Hermione Granger','Rony Weasly','Tatsumaki Kyaku']\n",
    "\n",
    "print('Lista nomes:',ls_nomes)\n",
    "print('Lista sobrenomes:', sobrenomes(ls_nomes))\n",
    "\n"
   ]
  },
  {
   "cell_type": "code",
   "execution_count": 16,
   "metadata": {},
   "outputs": [
    {
     "name": "stdout",
     "output_type": "stream",
     "text": [
      "\n",
      "Exercicio 7 - Conta palavras\n",
      "----------------------------\n",
      "Texto 'Du du du du domingo, que dia mais lindo' tem 9 palavra(s).\n",
      "Texto 'Harry Potter e a Pedra Filosoal' tem 6 palavra(s).\n",
      "Texto 'Oi.' tem 1 palavra(s).\n"
     ]
    }
   ],
   "source": [
    "# Escreva uma função que conte o número de palavras em um texto. Aplique essa função em dois textos de sua escolha. \n",
    "ex(7,'Conta palavras')\n",
    "\n",
    "def conta_palavra (texto):\n",
    "  ls_conta = texto.split()\n",
    "  print(f'Texto \\'{texto}\\' tem {len(ls_conta)} palavra(s).')\n",
    "\n",
    "texto1 = 'Du du du du domingo, que dia mais lindo' #9\n",
    "texto2 = 'Harry Potter e a Pedra Filosoal' #6\n",
    "texto3 = 'Oi.' #1\n",
    "\n",
    "conta_palavra(texto1)\n",
    "conta_palavra(texto2)\n",
    "conta_palavra(texto3)"
   ]
  }
 ],
 "metadata": {
  "kernelspec": {
   "display_name": "Python 3",
   "language": "python",
   "name": "python3"
  },
  "language_info": {
   "codemirror_mode": {
    "name": "ipython",
    "version": 3
   },
   "file_extension": ".py",
   "mimetype": "text/x-python",
   "name": "python",
   "nbconvert_exporter": "python",
   "pygments_lexer": "ipython3",
   "version": "3.12.2"
  }
 },
 "nbformat": 4,
 "nbformat_minor": 2
}
