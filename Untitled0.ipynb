{
  "nbformat": 4,
  "nbformat_minor": 0,
  "metadata": {
    "colab": {
      "provenance": [],
      "toc_visible": true
    },
    "kernelspec": {
      "name": "python3",
      "display_name": "Python 3"
    },
    "language_info": {
      "name": "python"
    }
  },
  "cells": [
    {
      "cell_type": "code",
      "execution_count": null,
      "metadata": {
        "id": "vTrb7QvwZOrn"
      },
      "outputs": [],
      "source": [
        "from datetime import date"
      ]
    },
    {
      "cell_type": "code",
      "source": [
        "data_hoje = date.today()\n",
        "dia_hoje = data_hoje.day\n",
        "mes_hoje = data_hoje.month\n",
        "ano_hoje = data_hoje.year\n",
        "\n",
        "print(dia_hoje,mes_hoje,ano_hoje)"
      ],
      "metadata": {
        "colab": {
          "base_uri": "https://localhost:8080/"
        },
        "id": "vuYppug1aK1a",
        "outputId": "65289c77-7c18-4a14-fef0-6b441184e914"
      },
      "execution_count": null,
      "outputs": [
        {
          "output_type": "stream",
          "name": "stdout",
          "text": [
            "10 4 2024\n"
          ]
        }
      ]
    },
    {
      "cell_type": "code",
      "source": [
        "data_inicio = '31/01/1999'\n",
        "dia_ini = int(data_inicio[:2])\n",
        "mes_ini = int(data_inicio[3:5])\n",
        "ano_ini = int(data_inicio[6:])\n",
        "\n",
        "print(dia_ini,mes_ini,ano_ini)"
      ],
      "metadata": {
        "colab": {
          "base_uri": "https://localhost:8080/"
        },
        "id": "RAcm_SU1atwo",
        "outputId": "b6335ba6-f982-4b61-f860-a5afafb2084f"
      },
      "execution_count": null,
      "outputs": [
        {
          "output_type": "stream",
          "name": "stdout",
          "text": [
            "31 1 1999\n"
          ]
        }
      ]
    },
    {
      "cell_type": "code",
      "source": [
        "dias_mes = [31,28,31,30,31,30,31,31,30,31,30,31] #lista com o total de dias em cada mes, onde índice 0 = janeiro, índice 1 = fevereiro, etc."
      ],
      "metadata": {
        "id": "MXCVuucqbeMl"
      },
      "execution_count": null,
      "outputs": []
    },
    {
      "cell_type": "code",
      "source": [
        "#calcular o numero de dias do comeco do ano até hoje\n",
        "dias_passados = sum(dias_mes[:mes_hoje-1])"
      ],
      "metadata": {
        "id": "IslaBB4JbPKT"
      },
      "execution_count": null,
      "outputs": []
    }
  ]
}