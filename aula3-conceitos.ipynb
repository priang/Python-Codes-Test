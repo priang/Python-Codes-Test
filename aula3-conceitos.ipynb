{
 "cells": [
  {
   "cell_type": "code",
   "execution_count": 10,
   "metadata": {},
   "outputs": [
    {
     "name": "stdout",
     "output_type": "stream",
     "text": [
      "b c 3\n"
     ]
    }
   ],
   "source": [
    "def nomefuncao2(num1, palavra, *args): # num e palavra são argumentos obri\n",
    " print(*args) # imprime todos os argumentos separados por 1 espaço\n",
    "\n",
    "# chamada da funcao\n",
    "nomefuncao2(1,'melancia', 'b','c',3)"
   ]
  },
  {
   "cell_type": "code",
   "execution_count": 11,
   "metadata": {},
   "outputs": [
    {
     "name": "stdout",
     "output_type": "stream",
     "text": [
      "b c 3\n",
      "('b', 'c', 3)\n"
     ]
    }
   ],
   "source": [
    "def nomefuncao3(num1, palavra, *args):\n",
    "    print(*args) # imprime todos os argumentos separados por 1 espaço\n",
    "    print(args)\n",
    "\n",
    "# chamada da funcao\n",
    "nomefuncao3(1,'melancia', 'b','c',3)"
   ]
  },
  {
   "cell_type": "code",
   "execution_count": 8,
   "metadata": {},
   "outputs": [
    {
     "name": "stdout",
     "output_type": "stream",
     "text": [
      "b c 3\n",
      "b\n",
      "c\n"
     ]
    }
   ],
   "source": [
    "def nomefuncao(*args):\n",
    "\tprint(*args) # imprimi todos os argumentos separados por 1 espaço\n",
    "\tprint(args[0])\n",
    "\tprint(args[1])\t\n",
    "\t\n",
    "\n",
    "nomefuncao('b','c',3)"
   ]
  },
  {
   "cell_type": "code",
   "execution_count": 19,
   "metadata": {},
   "outputs": [
    {
     "name": "stdout",
     "output_type": "stream",
     "text": [
      "7 melancia True 7.8 harry potter [1, 2]\n",
      "3.14\n",
      "harry\n",
      "False\n"
     ]
    }
   ],
   "source": [
    "def nomefuncaoTres(num1, palavra, *args):\n",
    "    print(num1,palavra,*args) # imprime todos os argumentos separados por 1 espaço\n",
    "\n",
    "# chamada da funcao\n",
    "nomefuncaoTres(7,'melancia',True,7.8,'harry potter', [1,2])\n",
    "\n",
    "\n",
    "def nomefuncaoQuatro(num1, palavra, *args):\n",
    "    for elemento in args:\n",
    "        print(elemento)\n",
    "\n",
    "# chamada da funcao\n",
    "nomefuncaoQuatro(1,'oi',3.14,'harry', False)"
   ]
  },
  {
   "cell_type": "code",
   "execution_count": 30,
   "metadata": {},
   "outputs": [
    {
     "ename": "SyntaxError",
     "evalue": "positional argument follows keyword argument (3850524746.py, line 4)",
     "output_type": "error",
     "traceback": [
      "\u001b[1;36m  Cell \u001b[1;32mIn[30], line 4\u001b[1;36m\u001b[0m\n\u001b[1;33m    printaElementosTres(saudacao='Olá',True,6.1,'chris')\u001b[0m\n\u001b[1;37m                                                       ^\u001b[0m\n\u001b[1;31mSyntaxError\u001b[0m\u001b[1;31m:\u001b[0m positional argument follows keyword argument\n"
     ]
    }
   ],
   "source": [
    "def printaElementosTres(*args, saudacao='Oi'):\n",
    "    print(saudacao)\n",
    "\n",
    "printaElementosTres(saudacao='Olá',True,6.1,'chris')"
   ]
  },
  {
   "cell_type": "code",
   "execution_count": 31,
   "metadata": {},
   "outputs": [
    {
     "name": "stdout",
     "output_type": "stream",
     "text": [
      "Olá, Pri\n"
     ]
    }
   ],
   "source": [
    "def printaElemetosQuatro(saudacao='Oi', nome='João'):\n",
    "    print(saudacao, nome)\n",
    "\n",
    "printaElemetosQuatro(nome='Pri',saudacao='Olá,')"
   ]
  },
  {
   "cell_type": "code",
   "execution_count": 32,
   "metadata": {},
   "outputs": [
    {
     "name": "stdout",
     "output_type": "stream",
     "text": [
      "Olá, Pri\n"
     ]
    }
   ],
   "source": [
    "def funcaoArgChaveValor(**kwargs):\n",
    "    print(kwargs['saudacao'], kwargs['nome'])\n",
    "\n",
    "printaElemetosQuatro(nome='Pri',saudacao='Olá,')"
   ]
  }
 ],
 "metadata": {
  "kernelspec": {
   "display_name": "Python 3",
   "language": "python",
   "name": "python3"
  },
  "language_info": {
   "codemirror_mode": {
    "name": "ipython",
    "version": 3
   },
   "file_extension": ".py",
   "mimetype": "text/x-python",
   "name": "python",
   "nbconvert_exporter": "python",
   "pygments_lexer": "ipython3",
   "version": "3.12.2"
  }
 },
 "nbformat": 4,
 "nbformat_minor": 2
}
