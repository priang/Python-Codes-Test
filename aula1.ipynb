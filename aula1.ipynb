{
 "cells": [
  {
   "cell_type": "code",
   "execution_count": 1,
   "metadata": {},
   "outputs": [],
   "source": [
    "#Lista de exercícios 1 - 15/04/2024\n",
    "\n",
    "# titulo exercicio\n",
    "def exe(num,title):\n",
    "  print(f'\\nExercício {num} - {title}:')\n",
    "  tam = 1+len(title)\n",
    "  #print(tam)\n",
    "  print('-'*12+'')\n"
   ]
  },
  {
   "cell_type": "code",
   "execution_count": 2,
   "metadata": {},
   "outputs": [
    {
     "name": "stdout",
     "output_type": "stream",
     "text": [
      "\n",
      "Exercício 1 - Linha:\n",
      "------------\n",
      "Hello world!\n",
      "*--*--*--*--\n",
      "Hoje o dia tá frio ❄ ❄ ❄ ❄ ❄\n",
      "--------\n"
     ]
    }
   ],
   "source": [
    "# Crie uma função que imprima uma linha estilizada de caracteres. Escreva alguns fragmentos de texto e separe-os por essas linhas. \n",
    "exe(1,'Linha')\n",
    "def imprimeLinha(simbolo,tamanho):\n",
    "   print(simbolo*tamanho)\n",
    "\n",
    "print('Hello world!')\n",
    "imprimeLinha('*--',4)\n",
    "print('Hoje o dia tá frio ❄ ❄ ❄ ❄ ❄')\n",
    "imprimeLinha('--',4)"
   ]
  },
  {
   "cell_type": "code",
   "execution_count": 3,
   "metadata": {},
   "outputs": [
    {
     "name": "stdout",
     "output_type": "stream",
     "text": [
      "\n",
      "Exercício 2 - Saudação com return:\n",
      "------------\n",
      "Konnichi wa, Daniela!\n"
     ]
    }
   ],
   "source": [
    "# Crie uma função que retorne uma saudação. Crie uma variável para armazenar essa saudação, leia o nome de um usuário e imprima a saudação para esse usuário.\n",
    "exe(2,'Saudação com return')\n",
    "def saudacao():\n",
    "  return 'Konnichi wa, '\n",
    "\n",
    "s = saudacao()\n",
    "nome = 'Daniela' #input('Anata no namae wa nanidesu ka? ')\n",
    "print(s + nome + '!')\n"
   ]
  },
  {
   "cell_type": "code",
   "execution_count": 4,
   "metadata": {},
   "outputs": [
    {
     "name": "stdout",
     "output_type": "stream",
     "text": [
      "\n",
      "Exercício 3 - Saudação com argumento:\n",
      "------------\n",
      "Konnichi wa, Daniela!\n"
     ]
    }
   ],
   "source": [
    "#Crie uma função que receba o nome do usuário e imprima a saudação a esse usuário.\n",
    "exe(3,'Saudação com argumento')\n",
    "def saudacaoComArgumento(nome):\n",
    "    print('Konnichi wa, '+nome+'!')\n",
    "\n",
    "nome = 'Daniela' #input('Qual seu nome? ')\n",
    "saudacaoComArgumento(nome)"
   ]
  },
  {
   "cell_type": "code",
   "execution_count": 5,
   "metadata": {},
   "outputs": [
    {
     "name": "stdout",
     "output_type": "stream",
     "text": [
      "\n",
      "Exercício 4 - Par ou Ímpar:\n",
      "------------\n",
      "44 é par...\n"
     ]
    }
   ],
   "source": [
    "#Crie uma função que receba um número e imprima se esse número é par ou ímpar.\n",
    "exe(4,'Par ou Ímpar')\n",
    "def parOrImpar(num):\n",
    "    if (num%2 == 0):\n",
    "        print(f'{num} é par...')\n",
    "    else:\n",
    "        print(f'{num} é ímpar...')\n",
    "\n",
    "parOrImpar(44)"
   ]
  },
  {
   "cell_type": "code",
   "execution_count": 6,
   "metadata": {},
   "outputs": [
    {
     "name": "stdout",
     "output_type": "stream",
     "text": [
      "\n",
      "Exercício 5 - Dobro:\n",
      "------------\n",
      "20\n"
     ]
    }
   ],
   "source": [
    "#Crie uma função que receba um número e retorne o dobro desse número.\n",
    "exe(5,'Dobro')\n",
    "def dobro(num):\n",
    "    return num*2\n",
    "\n",
    "print(dobro(10))"
   ]
  },
  {
   "cell_type": "code",
   "execution_count": 7,
   "metadata": {},
   "outputs": [
    {
     "name": "stdout",
     "output_type": "stream",
     "text": [
      "\n",
      "Exercício 6 - Quadrado:\n",
      "------------\n",
      "100\n"
     ]
    }
   ],
   "source": [
    "#Crie uma função que receba um número e retorne o quadrado desse número.\n",
    "exe(6,'Quadrado')\n",
    "def quadrado(num):\n",
    "    return num**2\n",
    "\n",
    "print(quadrado(10))"
   ]
  },
  {
   "cell_type": "code",
   "execution_count": 8,
   "metadata": {},
   "outputs": [
    {
     "name": "stdout",
     "output_type": "stream",
     "text": [
      "\n",
      "Exercício 7 - Soma:\n",
      "------------\n",
      "10\n"
     ]
    }
   ],
   "source": [
    "#Crie uma função que receba dois números e retorne a soma desses números.\n",
    "exe(7,'Soma')\n",
    "def soma(num1,num2):\n",
    "    return num1+num2\n",
    "\n",
    "print(soma(7,3))"
   ]
  },
  {
   "cell_type": "code",
   "execution_count": 9,
   "metadata": {},
   "outputs": [
    {
     "name": "stdout",
     "output_type": "stream",
     "text": [
      "\n",
      "Exercício 8 - Multiplicação:\n",
      "------------\n",
      "140\n"
     ]
    }
   ],
   "source": [
    "#Crie uma função que receba dois números e retorne a multiplicação desses números.\n",
    "exe(8,'Multiplicação')\n",
    "def multiplicacao(num1,num2):\n",
    "    return num1*num2\n",
    "\n",
    "print(multiplicacao(70,2))"
   ]
  }
 ],
 "metadata": {
  "kernelspec": {
   "display_name": "Python 3",
   "language": "python",
   "name": "python3"
  },
  "language_info": {
   "codemirror_mode": {
    "name": "ipython",
    "version": 3
   },
   "file_extension": ".py",
   "mimetype": "text/x-python",
   "name": "python",
   "nbconvert_exporter": "python",
   "pygments_lexer": "ipython3",
   "version": "3.12.2"
  }
 },
 "nbformat": 4,
 "nbformat_minor": 2
}
